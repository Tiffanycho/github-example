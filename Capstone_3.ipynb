{
 "cells": [
  {
   "cell_type": "markdown",
   "metadata": {},
   "source": [
    "# SETTING UP ICE CREAM SHOP IN SINGAPORE"
   ]
  },
  {
   "cell_type": "markdown",
   "metadata": {},
   "source": [
    "## INTRODUCTION\n",
    "Mr. Smith has decided to venture into the business of selling ice-cream in Singapore. The type of ice-cream he is planning to sell is artisanal ice-cream that attracts people from high-school students to middle-aged groups, who are interested in current trends. Mr. Smith would like to find out which specific location/area that currently has the least ice-cream stores or dessert shops to minimize his competition, as well as, to tap onto market not yet fully saturated to gain market share."
   ]
  },
  {
   "cell_type": "markdown",
   "metadata": {},
   "source": [
    "## DATA\n",
    "The first dataset required is the location data of Singapore by regions. The list of all postal codes of Singapore is found in: https://en.wikipedia.org/wiki/Postal_codes_in_Singapore. Using this dataset, we are able to identify the longitude and latitude coordinates of each postal codes. Using foursquare location api, we are able to identify the the venues within a certain radius of the location of the postal codes. Using this information, we then pull out all venues with the venue category of \"Ice Cream Shop\" and \"Dessert Shop\". Using the filtered list, we identify location with the most frequency (i.e. location with most 'Ice Cream Shop' and 'Dessert Shop' combined). Through this, we are able to identify the areas that are least saturated with ice-cream stores and dessert shop as required by Mr.Smith."
   ]
  },
  {
   "cell_type": "markdown",
   "metadata": {},
   "source": [
    "## METHODOLOGY\n",
    "This project uses the BeautifulSoup library to extract the table information from wikipedia. With the use of BeautifulSoup, we are able to create a panda dataframe listing the Postal District, Postal Sector, and General Location. We then use the name of the general location and Singapore to identify the longitude and latitude of each Postal District. With the availability of all the coordinates for each District, we are able to map out all the locations in the Singapore map. With the Foursquare API, we are able to obtain the venue id, venue name, venue longitude, venue latitude, and venue category, within 1.2km radius of each District coordinates. A larger radius is being used to ensure all venues are captured.\n",
    "\n",
    "As a result of large radius, some of the venues may overlap into multiple district. We then use the drop_duplicates method to remove any duplicates of venue in multiple District. Since our client is only interested in Ice-cream store and dessert shop, we make a further filtration to extract only data with venue category that are named \"Ice Cream Shop\" and \"Dessert Shop\". From there, we do a simple calculation to identify the count of \"Ice Cream Shop\" and \"Dessert Shop\" within each District and divide by the total count, to obtain the frequency of these stores within the particular District. "
   ]
  },
  {
   "cell_type": "markdown",
   "metadata": {},
   "source": [
    "## RESULTS\n",
    "There are in total of 16 Postal District identified within Singapore. There are 1898 venues identified when searched through the Foursquare API. Upon filtration, there are only 37 venues with the venue category \"Ice Cream Shop\" and \"Dessert Shop\". Based on the calculation performed, the top three locations are:\n",
    "1. Orchard, Cairnhill, River Valley\n",
    "2. Balestier, Toa Payoh, Serangoon\n",
    "3. Ardmore, Bukit Timah, Holland Road, Tanglin\n",
    "\n",
    "The bottom three locations are:\n",
    "1. Upper Bukit Timah, Clementi Park, Ulu Pandan\n",
    "2. Macpherson, Braddell\n",
    "3. Kranji, Woodgrove, Woodlands\t\n",
    "\n",
    "With the above results, we are able to provide the recommendation for our customer, Mr.Smith."
   ]
  },
  {
   "cell_type": "markdown",
   "metadata": {},
   "source": [
    "## Discussion\n",
    "Based on observation of the data, there are actually 5 locations with the same frequency that are with the least Ice-Cream and Dessert Shops, and they are:\n",
    "1. Upper Bukit Timah, Clementi Park, Ulu Pandan\n",
    "2. Macpherson, Braddell\n",
    "3. Kranji, Woodgrove, Woodlands\n",
    "4. Geylang, Eunos\n",
    "5. Bishan, Ang Mo Kio\n",
    "\n",
    "It is recommended that the client set up shop in the next nearest location to Orchard (the most popular area for setting up shops for ice-cream and dessert shops) with the least number of similar shops within that area to reduce competition, and at the same time, have sufficient footfall within that area. Using the map, the recommended areas are:\n",
    "1. Macpherson, Braddell\n",
    "2. Geylang, Eunos\n",
    "\n",
    "These two locations are situated closest to the prime location and is not as saturated as the area in Orchard, prime location. Furthermore, the costs associated with these locations are much cheaper in comparison to Orchard. "
   ]
  },
  {
   "cell_type": "markdown",
   "metadata": {},
   "source": [
    "## CONCLUSION\n",
    "The client, Mr.Smith, should consider setting up his ice-cream shop within the two suggested District (Macpherson/Braddell or Geyland/Eunos). There are other factors that Mr.Smith should put into consideration prior to setting up his ice-cream shop. While the locations suggested reduces the amount of competition, Mr. Smith should also consider factors like costs, employment within that area, people's tastes and preferences, and et cetera. This marks the conclusion of the report. "
   ]
  },
  {
   "cell_type": "code",
   "execution_count": null,
   "metadata": {},
   "outputs": [],
   "source": []
  }
 ],
 "metadata": {
  "kernelspec": {
   "display_name": "Python 3",
   "language": "python",
   "name": "python3"
  },
  "language_info": {
   "codemirror_mode": {
    "name": "ipython",
    "version": 3
   },
   "file_extension": ".py",
   "mimetype": "text/x-python",
   "name": "python",
   "nbconvert_exporter": "python",
   "pygments_lexer": "ipython3",
   "version": "3.6.8"
  }
 },
 "nbformat": 4,
 "nbformat_minor": 2
}
